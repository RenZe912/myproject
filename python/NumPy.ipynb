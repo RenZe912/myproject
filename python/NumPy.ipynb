{
 "cells": [
  {
   "cell_type": "code",
   "execution_count": 6,
   "id": "bbfbd6fb",
   "metadata": {},
   "outputs": [
    {
     "name": "stdout",
     "output_type": "stream",
     "text": [
      "a: [1 2 3]\n",
      "b: [[1. 2. 3.]\n",
      " [4. 5. 6.]]\n",
      "b.ndim: 2\n",
      "b.size: 6\n"
     ]
    }
   ],
   "source": [
    "import numpy as np\n",
    "\n",
    "a = np.array([1, 2, 3],dtype=np.int64)\n",
    "b = np.array([[1, 2, 3],\n",
    "             [4,5,6]],dtype=np.float64)\n",
    "\n",
    "print(\"a:\",a)\n",
    "print(\"b:\",b)\n",
    "#print('a.dtype:',a.dtype)\n",
    "# print('b.shape:',b.shape)\n",
    "print('b.ndim:',b.ndim)\n",
    "print('b.size:',b.size)"
   ]
  },
  {
   "cell_type": "code",
   "execution_count": null,
   "id": "5c8cd13e",
   "metadata": {},
   "outputs": [
    {
     "name": "stdout",
     "output_type": "stream",
     "text": [
      "b_3X2: [[1. 2.]\n",
      " [3. 4.]\n",
      " [5. 6.]]\n",
      "b_auto: [[1. 2.]\n",
      " [3. 4.]\n",
      " [5. 6.]]\n"
     ]
    }
   ],
   "source": [
    "import numpy as np\n",
    "\n",
    "a = np.array([1, 2, 3],dtype=np.int64)\n",
    "b = np.array([[1, 2, 3],\n",
    "             [4,5,6]],dtype=np.float64)\n",
    "\n",
    "\n",
    "b_3X2 = b.reshape(3,2)\n",
    "b_auto = b.reshape(-1,2) # -1 means \"as many as needed\"\n",
    "print(\"b_3X2:\",b_3X2)\n",
    "print(\"b_auto:\",b_auto) \n"
   ]
  },
  {
   "cell_type": "code",
   "execution_count": null,
   "id": "69406177",
   "metadata": {},
   "outputs": [
    {
     "name": "stdout",
     "output_type": "stream",
     "text": [
      "col1 before: [100.   5.]\n",
      "col1 after: [100.   5.]\n",
      "b after modifying col1:\n",
      " [[  1. 100.   3.]\n",
      " [  4.   5.   6.]]\n"
     ]
    }
   ],
   "source": [
    "col1 = b[:,1]\n",
    "print('col1 before:',col1)\n",
    "col1[0] = 100 # slice is a view, not a copy\n",
    "print('col1 after:',col1)\n",
    "print('b after modifying col1:\\n',b)\n"
   ]
  },
  {
   "cell_type": "code",
   "execution_count": 11,
   "id": "91bae337",
   "metadata": {},
   "outputs": [
    {
     "name": "stdout",
     "output_type": "stream",
     "text": [
      "c = b+10:\n",
      " [[ 11. 110.  13.]\n",
      " [ 14.  15.  16.]]\n"
     ]
    }
   ],
   "source": [
    "c = b+10\n",
    "print('c = b+10:\\n',c)"
   ]
  },
  {
   "cell_type": "code",
   "execution_count": 13,
   "id": "c864e072",
   "metadata": {},
   "outputs": [
    {
     "name": "stdout",
     "output_type": "stream",
     "text": [
      "col2 before: [3. 6.]\n",
      "col2 after: [200.   6.]\n",
      "b after modifying col2:\n",
      " [[  1. 100.   3.]\n",
      " [  4.   5.   6.]]\n",
      "d = b*2:\n",
      " [[ 2.  2.  6.]\n",
      " [ 8. 10. 12.]]\n"
     ]
    }
   ],
   "source": [
    "col2 = b[:,2].copy() # make a copy\n",
    "print('col2 before:',col2)\n",
    "col2[0] = 200 # does not affect b\n",
    "print('col2 after:',col2)\n",
    "print('b after modifying col2:\\n',b)    \n",
    "\n",
    "\n",
    "col1[0] = 1\n",
    "d = b*2\n",
    "print('d = b*2:\\n',d)\n"
   ]
  },
  {
   "cell_type": "markdown",
   "id": "1cfdb3f3",
   "metadata": {},
   "source": [
    "练习 1（入门）\n",
    "构造一个包含 1 到 6 的 2×3 整数数组 m（行优先），打印：\n",
    "\t1.\tm.dtype 与 m.shape；\n",
    "\t2.\t将 第二列 每个元素加 5 后输出整个数组；\n",
    "\t3.\t用 reshape 把 m 变成 3×2 并输出形状。\n",
    "提示：np.arange(1, 7).reshape(2, 3)；取第二列可用 m[:, 1]。\n",
    "期望现象：类型为整型、形状正确；第二列元素各自增加 5；reshape 后形状变为 (3, 2)。"
   ]
  },
  {
   "cell_type": "code",
   "execution_count": null,
   "id": "386b11eb",
   "metadata": {},
   "outputs": [
    {
     "name": "stdout",
     "output_type": "stream",
     "text": [
      "m: [[1 2 3]\n",
      " [4 5 6]]\n",
      "m.dtype: int64\n",
      "m.shape: (2, 3)\n",
      "[[ 1  7  3]\n",
      " [ 4 10  6]]\n",
      "[[ 1  7]\n",
      " [ 3  4]\n",
      " [10  6]]\n"
     ]
    }
   ],
   "source": [
    "import numpy as np  \n",
    "\n",
    "m = np.arange(1,7).reshape(2,3) #make a range and reshape it to 2X3\n",
    "print(\"m:\",m)# print the matrix\n",
    "\n",
    "print(\"m.dtype:\",m.dtype) # print the data type of the matrix\n",
    "print(\"m.shape:\",m.shape) # print the shape of the matrix\n",
    "\n",
    "col1 = m[:,1] # get the second column (index 1)\n",
    "# remember this is a view, not a copy\n",
    "col1 +=5 # add 5 to each element in col1\n",
    "# this also changes m\n",
    "print(m) # print m to see the change\n",
    "\n",
    "m.reshape(3,2) # does not change m\n",
    "print(m.reshape(3,2)) # print the reshaped matrix\n",
    "print(m) # print m to see that it is unchanged\n",
    "m = m.reshape(3,2) # reassign m to the reshaped matrix\n",
    "print(m) # print m to see the change\n"
   ]
  },
  {
   "cell_type": "code",
   "execution_count": 27,
   "id": "e495fc47",
   "metadata": {},
   "outputs": [
    {
     "name": "stdout",
     "output_type": "stream",
     "text": [
      "[23.5 25.1 22.8 24.  26.3 27.1 25.9]\n",
      "float64\n",
      "(7,)\n",
      "1\n",
      "7\n",
      "[24.  25.6 23.3 24.5 26.8 27.6 26.4]\n",
      "[[24. ]\n",
      " [25.6]\n",
      " [23.3]\n",
      " [24.5]\n",
      " [26.8]\n",
      " [27.6]\n",
      " [26.4]]\n"
     ]
    }
   ],
   "source": [
    "import numpy as np  \n",
    "\n",
    "daily = [23.5, 25.1, 22.8, 24.0, 26.3, 27.1, 25.9]\n",
    "\n",
    "daily_array = np.array(daily)# create a NumPy array from the list\n",
    "print(daily_array)# print the array\n",
    "print(daily_array.dtype) # print the data type\n",
    "print(daily_array.shape) # print the shape\n",
    "print(daily_array.ndim) # print the number of dimensions\n",
    "print(daily_array.size) # print the number of elements\n",
    "\n",
    "daily_array+= 0.5 # add 0.5 to each element\n",
    "\n",
    "print(daily_array)# print the array after adding 0.5\n",
    "\n",
    "daily_array1 = daily_array.reshape(-1,1) # make it a column vector\n",
    "print(daily_array1) # print the reshaped array\n",
    "\n",
    "\n"
   ]
  },
  {
   "cell_type": "code",
   "execution_count": null,
   "id": "213d287c",
   "metadata": {},
   "outputs": [],
   "source": []
  }
 ],
 "metadata": {
  "kernelspec": {
   "display_name": "pydata",
   "language": "python",
   "name": "python3"
  },
  "language_info": {
   "codemirror_mode": {
    "name": "ipython",
    "version": 3
   },
   "file_extension": ".py",
   "mimetype": "text/x-python",
   "name": "python",
   "nbconvert_exporter": "python",
   "pygments_lexer": "ipython3",
   "version": "3.11.13"
  }
 },
 "nbformat": 4,
 "nbformat_minor": 5
}
